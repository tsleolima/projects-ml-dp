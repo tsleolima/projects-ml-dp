{
 "cells": [
  {
   "cell_type": "markdown",
   "id": "012d1a4b",
   "metadata": {},
   "source": [
    "### Vetorização de texto\n",
    "\n",
    "É uma representação do texto em **vetores** para que seja permitida sua aplicabilidade em modelos de aprendizado de máquina.\n",
    "\n",
    "![Vector Space](assets/vector_space.png \"Vector Space\").\n",
    "\n",
    "\n",
    "Na figura acima podemos observar que na vetorização cada termo/palavra é mais uma **dimensão** no espaço vetorial, isso indica que essas dimensões tem direções independentes e ortogonais entre si.\n",
    "\n",
    "Em um corpus real temos um espaço dimensional gigantesco dado o grande número de palavras.\n",
    "\n",
    "Nossos documentos/sentenças textuais quando aplicados nesse espaço vetorial se tornam vetores. Os vetores são compostos por **valores** que correspondem a todas as dimensões/termos/palavras, **por exemplo**, a sentença1={term_1, term_2, term_n}. \n",
    "\n",
    "Tais valores resultam na direção, módulo e sentido desse vetor. É interessante que um documento pode ser formado por diversos termos/palavras e isso pode ser visto como uma maneira de reconhecer um certo nível de entendimento da sentença.\n",
    "\n",
    "O Nosso desafio é como obteremos esses valores que compõem um documento/sentença, para isso temos as seguintes formas de lidar com isso:\n",
    "\n",
    "**Bag of words(BOW)**:\n",
    "\n",
    "**TF**: \n",
    "\n",
    "**TF-IDF**:"
   ]
  },
  {
   "cell_type": "code",
   "execution_count": null,
   "id": "c0428c8f",
   "metadata": {},
   "outputs": [],
   "source": []
  },
  {
   "cell_type": "code",
   "execution_count": null,
   "id": "279cd1f7",
   "metadata": {},
   "outputs": [],
   "source": []
  }
 ],
 "metadata": {
  "kernelspec": {
   "display_name": "Python 3 (ipykernel)",
   "language": "python",
   "name": "python3"
  },
  "language_info": {
   "codemirror_mode": {
    "name": "ipython",
    "version": 3
   },
   "file_extension": ".py",
   "mimetype": "text/x-python",
   "name": "python",
   "nbconvert_exporter": "python",
   "pygments_lexer": "ipython3",
   "version": "3.9.7"
  }
 },
 "nbformat": 4,
 "nbformat_minor": 5
}
